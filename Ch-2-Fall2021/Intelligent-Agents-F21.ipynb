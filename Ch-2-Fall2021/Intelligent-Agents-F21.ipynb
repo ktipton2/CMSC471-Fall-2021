{
 "cells": [
  {
   "cell_type": "markdown",
   "metadata": {
    "slideshow": {
     "slide_type": "slide"
    }
   },
   "source": [
    "#### <h1><center>CMSC 471: Introduction to Artificial Intelligence</center></h1>\n",
    "\n",
    "<center><img src=\"img/title.jpeg\" align=\"center\"/></center>\n",
    "\n",
    "\n",
    "<h3 style=\"color:blue;\"><center>Instructor: Fereydoon Vafaei</center></h3>\n",
    "\n",
    "\n",
    "<h5 style=\"color:purple;\"><center>Intelligent Agents</center></h5>\n",
    "\n",
    "<center><img src=\"img/UMBC_logo.png\" align=\"center\"/></center>"
   ]
  },
  {
   "cell_type": "markdown",
   "metadata": {
    "slideshow": {
     "slide_type": "slide"
    }
   },
   "source": [
    "<h1><center>Agenda</center></h1>\n",
    "\n",
    "- <b> Intelligent Agents:</b>\n",
    "    - Rational Agents - Actions and States\n",
    "    - Task Environment Specifications - PEAS\n",
    "    - Task Environment Properties\n",
    "    - Types of Agents"
   ]
  },
  {
   "cell_type": "markdown",
   "metadata": {
    "slideshow": {
     "slide_type": "slide"
    }
   },
   "source": [
    "<h1><center>Intelligent Agents</center></h1>\n",
    "\n",
    "<img src=\"img/agent1.png\" align=\"center\"/>\n",
    "<font size=1> https://gungorbasa.com/intelligent-agents-dc5901daba7d </font>"
   ]
  },
  {
   "cell_type": "markdown",
   "metadata": {
    "slideshow": {
     "slide_type": "slide"
    }
   },
   "source": [
    "<h1><center>Intelligent Agents - Definitions</center></h1>\n",
    "\n",
    "- An **agent** is anything that can be viewed as perceiving its environment through **sensors** and acting upon that environment through **actuators**.\n",
    "\n",
    "\n",
    "- <b>Intelligent agent:</b> \"We define AI as the study of agents that receive <span style=\"color:blue\">*percepts*</span> from the environment and perform actions.\"\n",
    "\n",
    "\n",
    "- <b>Percept:</b> \"We use the term <span style=\"color:blue\">*percept*</span> to refer to the content an agent's sensors are perceiving.\"\n",
    "\n",
    "\n",
    "- <b>Percept Sequence</b> is the complete history of everything the agent has ever perceivied.\n",
    "\n",
    "\n",
    "- An agent's choice of **action** at any given instant can depend on its built-in knowledge and on the entire percept sequence observed to date, but not on anything it hasn't perceived."
   ]
  },
  {
   "cell_type": "markdown",
   "metadata": {
    "slideshow": {
     "slide_type": "slide"
    }
   },
   "source": [
    "<h1><center>Intelligent Agent: Actions and States</center></h1>\n",
    "\n",
    "- <b>Sequence of Actions by the agent</b> leads to <b>Sequence of States for the environment</b>"
   ]
  },
  {
   "cell_type": "markdown",
   "metadata": {
    "slideshow": {
     "slide_type": "slide"
    }
   },
   "source": [
    "<h1><center>Rational Agent: Actions and States</center></h1>\n",
    "\n",
    "- A rational agent is one that does the right thing.\n",
    "\n",
    "<img src=\"img/fig-2-1.png\" align=\"center\"/>"
   ]
  },
  {
   "cell_type": "markdown",
   "metadata": {
    "slideshow": {
     "slide_type": "slide"
    }
   },
   "source": [
    "<h1><center>Rational Agent Example: Vacuum Cleaner</center></h1>\n",
    "\n",
    "<img src=\"img/fig-2-2.png\" align=\"center\"/>"
   ]
  },
  {
   "cell_type": "markdown",
   "metadata": {
    "slideshow": {
     "slide_type": "slide"
    }
   },
   "source": [
    "<h1><center>Rational Agent Example: Tabulating the Agent Function</center></h1>\n",
    "\n",
    "- The important question is: \"What is the right way to fill out the table? What makes an agent good or bad, intelligent or stupid?\"\n",
    "\n",
    "<img src=\"img/fig-2-3.png\" align=\"center\"/>"
   ]
  },
  {
   "cell_type": "markdown",
   "metadata": {
    "slideshow": {
     "slide_type": "slide"
    }
   },
   "source": [
    "<h1><center>Good Behavior: The Concept of Rationality</center></h1>\n",
    "\n",
    "- We evaluate an agent's behavior by its **consequences**.\n",
    "\n",
    "\n",
    "- What is rational at any given time depends on four things:\n",
    "    - <b>The performance measure</b> that defines the criterion of success.\n",
    "    - <b>The agent's prior knowledge of the environment</b> \n",
    "    - <b>The actions that the agent can perform</b> \n",
    "    - <b>The agent's percept sequence to date</b> "
   ]
  },
  {
   "cell_type": "markdown",
   "metadata": {
    "slideshow": {
     "slide_type": "slide"
    }
   },
   "source": [
    "<h1><center>Definition of Rational Agent</center></h1>\n",
    "\n",
    "> *For each possible percept sequence, a **rational agent** should select an action that is expected to maximize its **performance measure**, given the evidence provided by the **percept sequence** and whatever built-in **knowledge** the agent has.*"
   ]
  },
  {
   "cell_type": "markdown",
   "metadata": {
    "slideshow": {
     "slide_type": "slide"
    }
   },
   "source": [
    "<h1><center>Omniscience, Learning, and Autonomy</center></h1>\n",
    "\n",
    "- Rationality is NOT the same as perfection--- **omniscience**.\n",
    "\n",
    "- Rationality maximizes **expected** performance, while perfection maximizes **actual** performance.\n",
    "\n",
    "- An omniscient agent knows the actual outcome of its actions and can act accordingly; but **omniscience** is impossible in reality.\n",
    "\n",
    "- **Information gathering** is an important part of rationality and means doing actions in oreder to modify future percepts. \n",
    "\n",
    "- Our definition requires a rational agent not only to gather information but also to **learn** as much as possible from what it perceives.\n",
    "\n",
    "- To the extent that an agent relies on the prior knowledge of its designer rather than on its own percepts and learning processes, we say that the agent lacks **autonomy**."
   ]
  },
  {
   "cell_type": "markdown",
   "metadata": {
    "slideshow": {
     "slide_type": "slide"
    }
   },
   "source": [
    "<h1><center>Task Environment Specifications - PEAS</center></h1>\n",
    "\n",
    "- <b>The Performance Measure</b>\n",
    "\n",
    "- <b>The External Environment</b> \n",
    "\n",
    "- <b>The Actuators</b> \n",
    "\n",
    "- <b>The Sensors</b> "
   ]
  },
  {
   "cell_type": "markdown",
   "metadata": {
    "slideshow": {
     "slide_type": "slide"
    }
   },
   "source": [
    "<h1><center>PEAS Example</center></h1>\n",
    "\n",
    "<img src=\"img/fig-2-4.png\" align=\"center\"/>"
   ]
  },
  {
   "cell_type": "markdown",
   "metadata": {
    "slideshow": {
     "slide_type": "slide"
    }
   },
   "source": [
    "<h1><center>Task Environment: Dimensions and Properties</center></h1>\n",
    "\n",
    "- <b>Fully observable vs. partially observable</b>\n",
    "\n",
    "- <b>Single-agent vs. multi-agent</b> \n",
    "\n",
    "- <b>Deterministic vs. non-deterministic (stochastic if probabilities are quantified)</b> \n",
    "\n",
    "- <b>Episodic vs. Sequential</b>\n",
    "\n",
    "- <b>Static vs. dynamic</b> \n",
    "\n",
    "- <b>Discrete vs. continuous</b> \n",
    "\n",
    "- <b>Known vs. unknown</b>"
   ]
  },
  {
   "cell_type": "markdown",
   "metadata": {
    "slideshow": {
     "slide_type": "slide"
    }
   },
   "source": [
    "<h1><center>PEAS Example</center></h1>\n",
    "\n",
    "<img src=\"img/fig-2-6.png\" align=\"center\"/>"
   ]
  },
  {
   "cell_type": "markdown",
   "metadata": {
    "slideshow": {
     "slide_type": "slide"
    }
   },
   "source": [
    "<h1><center><font color=\"blue\">Class Activity</font></center></h1>\n",
    "\n",
    "What are the environment specifications for a self-driving car?\n",
    "\n",
    "Think about it and then share your answers with class.\n",
    "\n",
    "- <b>Fully or partially observable</b>\n",
    "\n",
    "- <b>Single-agent or multi-agent</b> \n",
    "\n",
    "- <b>Deterministic or stochastic</b> \n",
    "\n",
    "- <b>Static or dynamic</b> \n",
    "\n",
    "- <b>Discrete or continuous</b> \n",
    "\n",
    "- <b>Known or unknown</b>\n",
    "\n",
    "- <b>Episodic or Sequential</b>"
   ]
  },
  {
   "cell_type": "markdown",
   "metadata": {
    "slideshow": {
     "slide_type": "slide"
    }
   },
   "source": [
    "<h1><center>Ride in NVIDIA's Self-Driving Car</center></h1>\n",
    "\n",
    "https://www.youtube.com/watch?time_continue=1&v=1W9q5SjaJTc&feature=emb_logo"
   ]
  },
  {
   "cell_type": "markdown",
   "metadata": {
    "slideshow": {
     "slide_type": "slide"
    }
   },
   "source": [
    "<h1><center>Types of Agents</center></h1>\n",
    "\n",
    "- <b>Simple reflex agents</b>\n",
    "\n",
    "- <b>Model-based reflex agents</b> \n",
    "\n",
    "- <b>Goal-based agents</b> \n",
    "\n",
    "- <b>Utility-based agents</b> \n",
    "\n",
    "- <b>Learning agents</b>"
   ]
  },
  {
   "cell_type": "markdown",
   "metadata": {
    "slideshow": {
     "slide_type": "slide"
    }
   },
   "source": [
    "<h1><center>Simple Reflex Agent</center></h1>\n",
    "\n",
    "<img src=\"img/fig-2-9.png\" align=\"center\"/>"
   ]
  },
  {
   "cell_type": "markdown",
   "metadata": {
    "slideshow": {
     "slide_type": "slide"
    }
   },
   "source": [
    "<h1><center>Model-Based Reflex Agent</center></h1>\n",
    "\n",
    "<img src=\"img/fig-2-11.png\" align=\"center\"/>"
   ]
  },
  {
   "cell_type": "markdown",
   "metadata": {
    "slideshow": {
     "slide_type": "slide"
    }
   },
   "source": [
    "<h1><center>Goal-Based Agent</center></h1>\n",
    "\n",
    "<img src=\"img/fig-2-13.png\" align=\"center\"/>"
   ]
  },
  {
   "cell_type": "markdown",
   "metadata": {
    "slideshow": {
     "slide_type": "slide"
    }
   },
   "source": [
    "<h1><center>Utility-Based Agent</center></h1>\n",
    "\n",
    "<img src=\"img/fig-2-14.png\" align=\"center\"/>"
   ]
  },
  {
   "cell_type": "markdown",
   "metadata": {
    "slideshow": {
     "slide_type": "slide"
    }
   },
   "source": [
    "<h1><center>Learning Agent</center></h1>\n",
    "\n",
    "<img src=\"img/fig-2-15.png\" align=\"center\"/>"
   ]
  },
  {
   "cell_type": "markdown",
   "metadata": {
    "slideshow": {
     "slide_type": "slide"
    }
   },
   "source": [
    "<h1><center>State Representations</center></h1>\n",
    "\n",
    "<img src=\"img/fig-2-16.png\" align=\"center\"/>"
   ]
  }
 ],
 "metadata": {
  "celltoolbar": "Slideshow",
  "kernelspec": {
   "display_name": "Python 3",
   "language": "python",
   "name": "python3"
  },
  "language_info": {
   "codemirror_mode": {
    "name": "ipython",
    "version": 3
   },
   "file_extension": ".py",
   "mimetype": "text/x-python",
   "name": "python",
   "nbconvert_exporter": "python",
   "pygments_lexer": "ipython3",
   "version": "3.8.8"
  }
 },
 "nbformat": 4,
 "nbformat_minor": 2
}
