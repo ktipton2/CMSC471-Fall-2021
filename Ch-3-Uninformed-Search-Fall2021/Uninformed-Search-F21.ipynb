{
 "cells": [
  {
   "cell_type": "markdown",
   "metadata": {
    "slideshow": {
     "slide_type": "slide"
    }
   },
   "source": [
    "#### <h1><center>CMSC 471: Introduction to Artificial Intelligence</center></h1>\n",
    "\n",
    "<center><img src=\"img/title.jpeg\" align=\"center\"/></center>\n",
    "\n",
    "\n",
    "<h3 style=\"color:blue;\"><center>Instructor: Fereydoon Vafaei</center></h3>\n",
    "\n",
    "\n",
    "<h5 style=\"color:purple;\"><center>Chapter 3 \"Uninformed Search\"</center></h5>\n",
    "\n",
    "<center><img src=\"img/UMBC_logo.png\" align=\"center\"/></center>"
   ]
  },
  {
   "cell_type": "markdown",
   "metadata": {
    "slideshow": {
     "slide_type": "slide"
    }
   },
   "source": [
    "<h1><center>Agenda</center></h1>\n",
    "\n",
    "\n",
    "- <b> Chapter 3: Uninformed and Informed Search</b> These slides cover **Uninformed Search**. Informed Search slides will be provided separately.\n",
    "\n",
    "<center><I>In which we see how an agent can look ahead to find a sequence of actions that will eventually achieve its goal.</I></center>"
   ]
  },
  {
   "cell_type": "markdown",
   "metadata": {
    "slideshow": {
     "slide_type": "skip"
    }
   },
   "source": [
    "<h1><center>Chapter-2 Review: Intelligent Agents</center></h1>\n",
    "<img src=\"img/agent1.png\" align=\"left\"/>\n",
    "https://gungorbasa.com/intelligent-agents-dc5901daba7d"
   ]
  },
  {
   "cell_type": "markdown",
   "metadata": {
    "slideshow": {
     "slide_type": "skip"
    }
   },
   "source": [
    "<h1><center>Chapter-2 Review: Rational Agent - Actions and States</center></h1>\n",
    "\n",
    "- <b>Sequence of Actions by the agent</b> leads to <b>Sequence of States for the environment</b>"
   ]
  },
  {
   "cell_type": "markdown",
   "metadata": {
    "slideshow": {
     "slide_type": "skip"
    }
   },
   "source": [
    "<h1><center>Chapter-2 Review: Task Environment Dimensions and Properties</center></h1>\n",
    "\n",
    "- <b>Fully or partially observable</b>\n",
    "\n",
    "- <b>Single-agent or multi-agent</b> \n",
    "\n",
    "- <b>Deterministic or stochastic</b> \n",
    "\n",
    "- <b>Static or dynamic</b> \n",
    "\n",
    "- <b>Discrete or continuous</b> \n",
    "\n",
    "- <b>Known or unknown</b>\n",
    "\n",
    "- <b>Episodic or Sequential</b>"
   ]
  },
  {
   "cell_type": "markdown",
   "metadata": {
    "slideshow": {
     "slide_type": "skip"
    }
   },
   "source": [
    "<h1><center>Chapter-2 Review: Types of Agents</center></h1>\n",
    "\n",
    "- <b>Simple reflex agents</b>\n",
    "\n",
    "- <b>Model-based reflex agents</b> \n",
    "\n",
    "- <b>Goal-based agents</b> \n",
    "\n",
    "- <b>Utility-based agents</b> \n",
    "\n",
    "- <b>Learning agents</b> "
   ]
  },
  {
   "cell_type": "markdown",
   "metadata": {
    "slideshow": {
     "slide_type": "slide"
    }
   },
   "source": [
    "<h1><center>Problem Solving Agents - Search Agents</center></h1>\n",
    "\n",
    "<b>One specific kind of agents that uses atomic representations on discrete environments.</b>\n",
    " \n",
    " \n",
    "- When the correct action to take is not immediately obvious, an agent may need to plan ahead: to consider a sequence of actions that form a path to a goal state.\n",
    "\n",
    "\n",
    "- Such an agent is called a **problem-solving agent**, and the computational process it undertakes is called **search**."
   ]
  },
  {
   "cell_type": "markdown",
   "metadata": {
    "slideshow": {
     "slide_type": "slide"
    }
   },
   "source": [
    "<h1><center>Search Environment Properties in Chapter-3</center></h1>\n",
    "\n",
    "- <b>Episodic</b>\n",
    "\n",
    "- <b>Single Agent</b>\n",
    "\n",
    "- <b>Fully Observable</b>\n",
    "\n",
    "- <b>Deterministic</b> \n",
    "\n",
    "- <b>Static</b>\n",
    "\n",
    "- <b>Discrete</b> \n",
    "\n",
    "- <b>Known</b> "
   ]
  },
  {
   "cell_type": "markdown",
   "metadata": {
    "slideshow": {
     "slide_type": "fragment"
    }
   },
   "source": [
    "- It is an important property that in a fullly observable, deterministic, known environment, the solution to any problem is a fixed sequence of actions."
   ]
  },
  {
   "cell_type": "markdown",
   "metadata": {
    "slideshow": {
     "slide_type": "slide"
    }
   },
   "source": [
    "<h1><center>Definition of Search from the Textbook</center></h1>\n",
    "\n",
    " <b>The process of looking for a sequence of actions that reaches the goal.</b>\n",
    " \n",
    " <img src=\"img/fig-3-1.png\" align=\"center\"/>"
   ]
  },
  {
   "cell_type": "markdown",
   "metadata": {
    "slideshow": {
     "slide_type": "slide"
    }
   },
   "source": [
    "<h1><center>Four-Phase Search Problem Solving Process</center></h1>\n",
    "\n",
    "- Goal Formulation\n",
    "\n",
    "\n",
    "- Problem Formulation\n",
    "\n",
    "\n",
    "- Search---leades to finding a sequence of actions that reaches the goal, i.e. **solution**\n",
    "\n",
    "\n",
    "- Execution"
   ]
  },
  {
   "cell_type": "markdown",
   "metadata": {
    "slideshow": {
     "slide_type": "slide"
    }
   },
   "source": [
    "<h1><center>Formal Definition of a Search Problem</center></h1>\n",
    "\n",
    "- <b>Initial State and Goal State</b>\n",
    "\n",
    "- <b>State Space - Directed Graph (or Tree)</b>  with nodes and edges G(V, E). \n",
    "\n",
    "- <b>Actions</b> The actions available to the agent. ACTIONS(*Arad*) = {*ToSibiu, ToTimisoara, ToZerind*} \n",
    "\n",
    "- <b>Transition Model - Successors</b> Graph: adjacent nodes. Tree: children of a node. RESULT(*Arad,ToZerind*) = *Zerind*\n",
    "\n",
    "- <b>Goal Test</b> IsGoal(Node)?\n",
    "\n",
    "- <b>Action Cost Function</b>  ACTION-COST($s, a, s'$) --- the numeric cost of applying action $a$ in state $s$ to reach state $s'$. \n",
    "\n",
    "- <b>Solution</b>  a sequence of actions forms a **path**, and a path from the initial state to a goal state is **solution**. \n",
    "\n",
    "- <b>Optimal Solution</b> The solution with the lowest cost."
   ]
  },
  {
   "cell_type": "markdown",
   "metadata": {
    "slideshow": {
     "slide_type": "slide"
    }
   },
   "source": [
    "<h1><center>Example Search Problem</center></h1>\n",
    " \n",
    "<img src=\"img/fig-3-2.png\" align=\"center\"/>"
   ]
  },
  {
   "cell_type": "markdown",
   "metadata": {
    "slideshow": {
     "slide_type": "slide"
    }
   },
   "source": [
    "<h1><center>Example Search Problem: 3 Puzzle</center></h1>\n",
    "\n",
    " <b>Class Activity: Define the problem and write a solution. Show all actions!</b>\n",
    " \n",
    " <img src=\"img/3puzzle.png\" align=\"center\"/>"
   ]
  },
  {
   "cell_type": "markdown",
   "metadata": {
    "slideshow": {
     "slide_type": "slide"
    }
   },
   "source": [
    "<h1><center>Example Search Problem: 8 Puzzle</center></h1>\n",
    " \n",
    "<img src=\"img/fig-3-3.png\" align=\"center\"/>"
   ]
  },
  {
   "cell_type": "markdown",
   "metadata": {
    "slideshow": {
     "slide_type": "slide"
    }
   },
   "source": [
    "<h1><center>Example Search Problem: 8 Puzzle</center></h1>\n",
    "\n",
    " <b>http://www.tilepuzzles.com/default.asp?p=12</b>"
   ]
  },
  {
   "cell_type": "markdown",
   "metadata": {
    "slideshow": {
     "slide_type": "slide"
    }
   },
   "source": [
    "<h1><center>Search Algorithms</center></h1>\n",
    "\n",
    "- A **Search Algorithm** takes a search problem as input and returns a **solution**, or an indication of **failure**."
   ]
  },
  {
   "cell_type": "markdown",
   "metadata": {
    "slideshow": {
     "slide_type": "slide"
    }
   },
   "source": [
    "<h1><center>Search Tree</center></h1>\n",
    " \n",
    "<img src=\"img/fig-3-4.png\" align=\"center\"/>"
   ]
  },
  {
   "cell_type": "markdown",
   "metadata": {
    "slideshow": {
     "slide_type": "slide"
    }
   },
   "source": [
    "<h1><center>Search Tree Superimposed on State-Space Graph</center></h1>\n",
    " \n",
    "<center><img src=\"img/fig-3-5.png\" align=\"center\"/></center>"
   ]
  },
  {
   "cell_type": "markdown",
   "metadata": {
    "slideshow": {
     "slide_type": "slide"
    }
   },
   "source": [
    "<h1><center>The Separation Property</center></h1>\n",
    " \n",
    "<center><img src=\"img/fig-3-6.png\" align=\"center\"/></center>"
   ]
  },
  {
   "cell_type": "markdown",
   "metadata": {
    "slideshow": {
     "slide_type": "slide"
    }
   },
   "source": [
    "<h1><center>Uniformed Search: Breadth First Search (BFS) vs Depth First Search (DFS)</center></h1>\n",
    " \n",
    " <img src=\"img/bfs-dfs1.png\" align=\"center\"/>\n",
    " image from: http://mishadoff.com/blog/dfs-on-binary-tree-array/"
   ]
  },
  {
   "cell_type": "markdown",
   "metadata": {
    "slideshow": {
     "slide_type": "slide"
    }
   },
   "source": [
    "<h1><center>BFS</center></h1>\n",
    " \n",
    "<center><img src=\"img/fig-3-8.png\" align=\"center\"/></center>"
   ]
  },
  {
   "cell_type": "markdown",
   "metadata": {
    "slideshow": {
     "slide_type": "slide"
    }
   },
   "source": [
    "<h1><center>DFS</center></h1>\n",
    " \n",
    "<center><img src=\"img/fig-3-11.png\" align=\"center\"/></center>"
   ]
  },
  {
   "cell_type": "markdown",
   "metadata": {
    "slideshow": {
     "slide_type": "slide"
    }
   },
   "source": [
    "<h1><center>BFS vs DFS</center></h1>\n",
    " \n",
    "<center><img src=\"img/bfs-dfs2.png\" align=\"center\"/></center>\n",
    " image from the paper by Everitt et al. (2015) \"Analytical Results on the BFS vs. DFS Algorithm Selection Problem: Part II: Graph Search\""
   ]
  },
  {
   "cell_type": "markdown",
   "metadata": {
    "slideshow": {
     "slide_type": "slide"
    }
   },
   "source": [
    "<h1><center>BFS vs DFS Example</center></h1>\n",
    " \n",
    "<center><img src=\"img/bfs-dfs-ex.jpeg\" align=\"center\"/><center>\n",
    "\n",
    "image from: https://medium.com/@jamesonbass/stacks-queues-depth-first-search-and-breadth-first-search-90eeafe3f6f4"
   ]
  },
  {
   "cell_type": "markdown",
   "metadata": {
    "slideshow": {
     "slide_type": "fragment"
    }
   },
   "source": [
    "BFS Solution: [1, 8, 5, 2, 6, 4, 3, 9, 10, 7]\n",
    "    \n"
   ]
  },
  {
   "cell_type": "markdown",
   "metadata": {
    "slideshow": {
     "slide_type": "fragment"
    }
   },
   "source": [
    "DFS Solution, which one is correct: [ 1, 8, 6, 10, 7, 4, 3, 5, 2, 9 ] or [ 1, 8, 6, 10, 7] ?"
   ]
  },
  {
   "cell_type": "markdown",
   "metadata": {
    "slideshow": {
     "slide_type": "slide"
    }
   },
   "source": [
    "<h1><center>Measuring Problem Solving Performance</center></h1>\n",
    "\n",
    "- <b>Completeness</b> Is the algorithm guaranteed to find a solution when there is one?\n",
    "\n",
    "- <b>Cost Optimality</b> Does the strategy find the optimal solution? Lowest path cost among all solutions.\n",
    "\n",
    "- <b>Time Complexity</b> How long does it take to find a solution?\n",
    "\n",
    "- <b>Space Complexity</b> How much memory is needed to perform the search?"
   ]
  },
  {
   "cell_type": "markdown",
   "metadata": {
    "slideshow": {
     "slide_type": "slide"
    }
   },
   "source": [
    "<h1><center>Measuring BFS Performance</center></h1>\n",
    "\n",
    "- <b>Completeness?</b> \n",
    "\n",
    "- <b>Optimality?</b> \n",
    "\n",
    "- <b>Time Complexity?</b> \n",
    "\n",
    "- <b>Space Complexity?</b>"
   ]
  },
  {
   "cell_type": "markdown",
   "metadata": {
    "slideshow": {
     "slide_type": "slide"
    }
   },
   "source": [
    "<h1><center>Measuring BFS Performance</center></h1>\n",
    "\n",
    "- <b>Completeness?</b> Yes! Although, the branching factor b should be finite. If b is infinite, BFS is NOT complete!"
   ]
  },
  {
   "cell_type": "markdown",
   "metadata": {
    "slideshow": {
     "slide_type": "fragment"
    }
   },
   "source": [
    "- <b>Optimality?</b> It depends!\n",
    "- BFS is optimal if the path cost is a nondecreasing function of the depth of the node. The most common such scenario is that all actions have the same cost. In other words, BFS checks all the nodes at any depth level, before checking the nodes at a deeper level. So it will check the nodes on level with depth D, before the ones with depth greater than D. If the cost function does not decrease as the depth increases , then BFS is optimal, because:\n",
    "\n",
    "- all nodes that are not checked yet have greater or equal path cost; AND\n",
    "\n",
    "- all nodes which have lower path cost are already checked and they are not a solution."
   ]
  },
  {
   "cell_type": "markdown",
   "metadata": {
    "slideshow": {
     "slide_type": "fragment"
    }
   },
   "source": [
    "- <b>Time Complexity?</b> b: branching factor, d: the depth of the shallowest solution. Compute it now!"
   ]
  },
  {
   "cell_type": "markdown",
   "metadata": {
    "slideshow": {
     "slide_type": "fragment"
    }
   },
   "source": [
    "- <b>Time Complexity?</b> $O(b^d)$ b: branching factor, d: the depth of the shallowest solution"
   ]
  },
  {
   "cell_type": "markdown",
   "metadata": {
    "slideshow": {
     "slide_type": "fragment"
    }
   },
   "source": [
    "- <b>Space Complexity?</b> $O(b^d)$ b: branching factor, d: the depth of the shallowest solution. BFS needs to store all the expanded nodes in memory."
   ]
  },
  {
   "cell_type": "markdown",
   "metadata": {
    "slideshow": {
     "slide_type": "slide"
    }
   },
   "source": [
    "<h1><center>BFS Time/Space Analysis from AIMA 3rd Edition</center></h1>\n",
    "\n",
    "<img src=\"img/bfs-time-space.png\" align=\"center\"/>"
   ]
  },
  {
   "cell_type": "markdown",
   "metadata": {
    "slideshow": {
     "slide_type": "slide"
    }
   },
   "source": [
    "<h1><center>Measuring DFS Performance</center></h1>\n",
    "\n",
    "- <b>Completeness?</b>\n",
    "\n",
    "- <b>Optimality?</b> \n",
    "\n",
    "- <b>Time Complexity?</b> \n",
    "\n",
    "- <b>Space Complexity?</b>"
   ]
  },
  {
   "cell_type": "markdown",
   "metadata": {
    "slideshow": {
     "slide_type": "fragment"
    }
   },
   "source": [
    "<h1><center>Measuring DFS Performance</center></h1>\n",
    "\n",
    "- <b>Completeness?</b> Standard answer is No, because even if there is finite nodes in a branch, there might be infinite loop (cycled path) in graph version.\n",
    "\n",
    "- <b>Optimality?</b> No! If the goal is in a shallow level on the right side branch.\n",
    "\n",
    "- <b>Time Complexity?</b> $O(b^m)$ b: branching factor, m: the maximum depth of the search tree\n",
    "\n",
    "- <b>Space Complexity?</b> $O(bm)$ b: branching factor, m: the maximum depth of the search tree. DFS needs to store only a single path from the root to a leaf node, along with the remaining unexpanded sibling nodes for each node on the path."
   ]
  },
  {
   "cell_type": "markdown",
   "metadata": {
    "slideshow": {
     "slide_type": "slide"
    }
   },
   "source": [
    "<h1><center>Why DFS is Not Complete - Cyclic Path</center></h1>\n",
    "\n",
    "<img src=\"img/fig-3-4.png\" align=\"center\"/>"
   ]
  },
  {
   "cell_type": "markdown",
   "metadata": {
    "slideshow": {
     "slide_type": "slide"
    }
   },
   "source": [
    "<h1><center>DFS Modifications: Depth-Limited Search</center></h1>\n",
    "\n",
    "- <b>Completeness?</b> No, if $l < d$ $l$: limit, $d$: the depth of the shallowest solution. Thus, it's complete if and only if $l >= d$\n",
    "- <b>Optimality?</b> No, if $l > d$ $l$: limit, $d$: the depth of the shallowest solution. Thus, it's optimal if and only if $l = d$"
   ]
  },
  {
   "cell_type": "markdown",
   "metadata": {
    "slideshow": {
     "slide_type": "slide"
    }
   },
   "source": [
    "<h1><center>DFS Modifications: Iterative Deepening DFS</center></h1>\n",
    "\n",
    "<img src=\"img/fig-3-13.png\" align=\"center\"/>"
   ]
  },
  {
   "cell_type": "markdown",
   "metadata": {
    "slideshow": {
     "slide_type": "slide"
    }
   },
   "source": [
    "<h1><center>Iterative Deepening DFS</center></h1>\n",
    "\n",
    "- <b>Completeness?</b> Yes, if b is finite.\n",
    "- <b>Optimality?</b> Yes, if the path cost is a nondecreasing function of the depth of the node.\n",
    "- <b>Time Complexity?</b> $O(b^d)$ b: branching factor, d: the depth of the shallowest solution.\n",
    "\n",
    "- <b>Space Complexity?</b> $O(bd)$ b: branching factor, d: the depth of the shallowest solution."
   ]
  },
  {
   "cell_type": "markdown",
   "metadata": {
    "slideshow": {
     "slide_type": "slide"
    }
   },
   "source": [
    "<h1><center>Bidirectional Search</center></h1>\n",
    " \n",
    "<center><img src=\"img/bidirectional.png\" align=\"center\"/></center>"
   ]
  },
  {
   "cell_type": "markdown",
   "metadata": {
    "slideshow": {
     "slide_type": "skip"
    }
   },
   "source": [
    "<h1><center>Comparison of Uninformed Search Strategies</center></h1>\n",
    " \n",
    "<center><img src=\"img/fig-3-15.png\" align=\"center\"/></center>"
   ]
  },
  {
   "cell_type": "markdown",
   "metadata": {
    "slideshow": {
     "slide_type": "slide"
    }
   },
   "source": [
    "<h1><center>Uninformed Search Summary</center></h1>\n",
    "\n",
    ">This table is a simplified version of the table in page 84 of our texbook (Figure 3.15).  Here $b$ is the branching factor, $d$ is the depth of the shallowest solution, $m$ is the maximum depth of the search tree, and $l$ is the depth limit. \n",
    "\n",
    "|  Criterion  |  Breadth-First  |  Depth-First  |  Depth-Limited  |  Iterative-Deepening  |  Bidirectional  \n",
    "| :-: | :-: | :-: | :-: | :-: | :-:\n",
    "|  Complete?  |  Yes  |  No  |  No  |  Yes  |  Yes  |\n",
    "|  Optimal?  |  Yes  |  No  |  No  |  Yes  |  Yes  |\n",
    "|  Time  |  $O(b^d)$  |  $O(b^m)$  |  $O(b^l)$  |  $O(b^d)$  |  $O(b^{d/2})$  |\n",
    "|  Space  |  $O(b^d)$  |  $O(bm)$  |  $O(bl)$  |  $O(bd)$  |  $O(b^{d/2})$  |\n"
   ]
  },
  {
   "cell_type": "markdown",
   "metadata": {
    "slideshow": {
     "slide_type": "slide"
    }
   },
   "source": [
    "<h1><center>Uninformed Search Summary</center></h1>\n",
    "\n",
    "Our textbook authors say:\n",
    "\n",
    "> \"In general, iterative deepening is the preferred uninformed search method when the search space is large and the depth of the solution is not known.\"\n",
    "\n",
    "[Watch this short video](https://www.youtube.com/watch?v=EnX8cQPiB1M) by [Richard Korf - UCLA](https://scholar.google.com/citations?user=LsuWoRoAAAAJ&hl=en) one of the developers of iterative deepening."
   ]
  }
 ],
 "metadata": {
  "celltoolbar": "Slideshow",
  "kernelspec": {
   "display_name": "Python 3",
   "language": "python",
   "name": "python3"
  },
  "language_info": {
   "codemirror_mode": {
    "name": "ipython",
    "version": 3
   },
   "file_extension": ".py",
   "mimetype": "text/x-python",
   "name": "python",
   "nbconvert_exporter": "python",
   "pygments_lexer": "ipython3",
   "version": "3.8.8"
  }
 },
 "nbformat": 4,
 "nbformat_minor": 2
}
