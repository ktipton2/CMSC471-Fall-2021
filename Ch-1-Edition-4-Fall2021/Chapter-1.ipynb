{
 "cells": [
  {
   "cell_type": "markdown",
   "metadata": {
    "slideshow": {
     "slide_type": "slide"
    }
   },
   "source": [
    "#### <h1><center>CMSC 471: Introduction to Artificial Intelligence</center></h1>\n",
    "\n",
    "<center><img src=\"img/title.jpeg\" align=\"center\"/></center>\n",
    "\n",
    "\n",
    "<h3 style=\"color:blue;\"><center>Instructor: Fereydoon Vafaei</center></h3>\n",
    "\n",
    "\n",
    "<h5 style=\"color:purple;\"><center>Introduction: What is AI?</center></h5>\n",
    "\n",
    "<center><img src=\"img/UMBC_logo.png\" align=\"center\"/></center>"
   ]
  },
  {
   "cell_type": "markdown",
   "metadata": {
    "slideshow": {
     "slide_type": "slide"
    }
   },
   "source": [
    "<h1><center>Agenda</center></h1>\n",
    "\n",
    "- <b> Chapter 1: Introduction </b>\n",
    "    - What is AI?\n",
    "    - The foundations of AI\n",
    "    - The History of AI\n",
    "    - The State of the Art AI\n",
    "    - Risks and Benefits of AI"
   ]
  },
  {
   "cell_type": "markdown",
   "metadata": {
    "slideshow": {
     "slide_type": "slide"
    }
   },
   "source": [
    "<img src=\"img/what-is-ai.jpg\" align=\"center\"/>\n",
    "\n",
    "<font size=1> https://1reddrop.com/2019/01/07/definition-of-artificial-intelligence-what-is-ai-what-are-the-types-and-components-and-how-does-it-work/</font>"
   ]
  },
  {
   "cell_type": "markdown",
   "metadata": {
    "slideshow": {
     "slide_type": "slide"
    }
   },
   "source": [
    "<h1><center>What is AI?</center></h1>\n",
    "\n",
    "- Human brain is the inspiration!\n",
    "\n",
    "\n",
    "- The field of AI is concerned with not just understanding but also **building** intelligent entities - machines that can compute how to act effectively and safely in a wide variety of novel situations.\n",
    "\n",
    "\n",
    "- AI includes a huge variety of **subfields** (learning, reasoning, perception, planning, logic, ...); it is truly a **universal** field."
   ]
  },
  {
   "cell_type": "markdown",
   "metadata": {
    "slideshow": {
     "slide_type": "slide"
    }
   },
   "source": [
    "<img src=\"img/AI-ML-DL.jpg\" align=\"center\"/>\n",
    "\n",
    "<font size=1> Image source: https://www.geospatialworld.net/blogs/difference-between-ai%EF%BB%BF-machine-learning-and-deep-learning/ </font>"
   ]
  },
  {
   "cell_type": "markdown",
   "metadata": {
    "slideshow": {
     "slide_type": "slide"
    }
   },
   "source": [
    "<h1><center>Definition of AI from the textbook</center></h1>\n",
    "\n",
    "- Some experts have defined **intelligence** in terms of fidelity to **human performance** while others associate it with **rationality** (doing the right thing).\n",
    "\n",
    "\n",
    "- <b>Intelligent agent:</b> \"We define AI as the study of agents that receive <span style=\"color:blue\">*percepts*</span> from the environment and perform actions.\"\n",
    "\n",
    "\n",
    "- <b>Percept:</b> a mental concept that is developed as a consequence of the process of perception.\n",
    "\n",
    "\n",
    "- <b>Percept:</b> \"We use the term <span style=\"color:blue\">*percept*</span> to refer to the agent's perceptual inputs at any given instant.\"\n",
    "\n",
    "\n",
    "- <b>Breadth of AI:</b> \"We treat <span style=\"color:blue\">*robotics*</span> and <span style=\"color:blue\">*vision*</span> not as indepedently defined problems, but as occurring in the service of achieving goals.\""
   ]
  },
  {
   "cell_type": "markdown",
   "metadata": {
    "slideshow": {
     "slide_type": "slide"
    }
   },
   "source": [
    "<h1><center>Definition of AI from the textbook - Update in the 4th Edition</center></h1>\n",
    "\n",
    "- \"Previously, We defined the goal of AI as creating systems that try to maximize expected utility, where the specific utility information - the objective - is supplied by the human designers of the system.\"\n",
    "\n",
    "\n",
    "- \"Now we no longer assume that the objective is fixed and known by the AI system; instead, the system may be uncertain about the true objectives of the humans on whose behalf it operates. It must learn what to maximize and must function appropriately even while uncertain about the objective.\""
   ]
  },
  {
   "cell_type": "markdown",
   "metadata": {
    "slideshow": {
     "slide_type": "slide"
    }
   },
   "source": [
    "<h1><center>Another Definition of AI</center></h1>\n",
    "- \"It is the science and engineering of making intelligent machines, especially intelligent computer programs. It is related to the similar task of using computers to understand human intelligence, but AI does not have to confine itself to methods that are biologically observable.\"\n",
    "\n",
    "http://www-formal.stanford.edu/jmc/whatisai/\n"
   ]
  },
  {
   "cell_type": "markdown",
   "metadata": {
    "slideshow": {
     "slide_type": "slide"
    }
   },
   "source": [
    "<h1><center>Then What Is Intelligence?</center></h1>\n",
    "\n",
    "\"Intelligence is the computational part of the ability to achieve goals in the world. Varying kinds and degrees of intelligence occur in people, many animals and some machines.\"\n",
    "\n",
    "http://jmc.stanford.edu/artificial-intelligence/what-is-ai/index.html"
   ]
  },
  {
   "cell_type": "markdown",
   "metadata": {
    "slideshow": {
     "slide_type": "slide"
    }
   },
   "source": [
    "<h1><center>What Is AI?</center></h1>\n",
    "\n",
    "* Thinking\n",
    "    * Humanly - like a human\n",
    "    * Rationally---optimally, or the best possible\n",
    "* Acting\n",
    "    * Humanly - like a human\n",
    "    * Rationally"
   ]
  },
  {
   "cell_type": "markdown",
   "metadata": {
    "slideshow": {
     "slide_type": "slide"
    }
   },
   "source": [
    "<h1><center>AI Approaches - 4 Dimensions</center></h1>\n",
    "\n",
    "<center><img src=\"img/4approaches.png\" align=\"center\"/></center>"
   ]
  },
  {
   "cell_type": "markdown",
   "metadata": {
    "slideshow": {
     "slide_type": "slide"
    }
   },
   "source": [
    "<h1><center>AI Approaches - Acting Humanly</center></h1>\n",
    "\n",
    "[The Turing Test approach](https://www.youtube.com/watch?v=sXx-PpEBR7k)\n",
    "\n",
    "[Turing Test](https://xkcd.com/329/) and [suspicion!](https://xkcd.com/632/)\n",
    "\n",
    "\n",
    "- The agent would need to process and handle the following capabilities:\n",
    "\n",
    "    - Natural Language Processing (NLP)\n",
    "    - Knowledge Representation\n",
    "    - Automated Reasoning\n",
    "    - Machine Learning\n",
    "    - Computer Vision\n",
    "    - Robotics"
   ]
  },
  {
   "cell_type": "markdown",
   "metadata": {
    "slideshow": {
     "slide_type": "slide"
    }
   },
   "source": [
    "<h1><center>AI Approaches - Thinking Humanly</center></h1>\n",
    "\n",
    "- The coginitive modeling approach. <b>Cognitive Science and Neuro-Cognitive Science.</b>\n",
    "\n",
    "\n",
    "- **How do humans think?** To say that a program thinks like a human, we must know how humans think.\n",
    "\n",
    "\n",
    "- We can learn about human thoughts in three ways:\n",
    "    - Introspection---trying to catch our own thoughts as they go by\n",
    "    - Psychological experiments---observing a person in action\n",
    "    - Brain imaging (**Neuroimaging**)---observing the brain in action\n"
   ]
  },
  {
   "cell_type": "markdown",
   "metadata": {
    "slideshow": {
     "slide_type": "slide"
    }
   },
   "source": [
    "<h1><center>Neuroimaging</center></h1>\n",
    "\n",
    "<center><img src=\"img/brain-1.gif\" align=\"center\"/></center>\n",
    "\n",
    "<font size=1> https://gfycat.com/homelyadmirablecopepod-science-brain </font>"
   ]
  },
  {
   "cell_type": "markdown",
   "metadata": {
    "slideshow": {
     "slide_type": "fragment"
    }
   },
   "source": [
    "<center><img src=\"img/brain-2.gif\" align=\"center\"/></center>\n",
    "\n",
    "<font size=1> https://www.ge.com/news/reports/the-art-of-science-take-a-look-at-the-future-of </font>"
   ]
  },
  {
   "cell_type": "markdown",
   "metadata": {
    "slideshow": {
     "slide_type": "slide"
    }
   },
   "source": [
    "<h1><center>Cognitive Science</center></h1>\n",
    "\n",
    "**Cognitive Science** is an interdisciplinary field that is trying to answer\n",
    "this question: **How the human mind works?**\n",
    "\n",
    "  * [Wikipedia entry for Cognitive Science](http://en.wikipedia.org/wiki/Cognitive_science)\n",
    "  * [Stanford Encyclopedia of Philosophy entry for Cognitive Science](http://plato.stanford.edu/entries/cognitive-science/)\n",
    "  * [Stanford Encyclopedia of Philosophy entry for Embodied Cognition](http://plato.stanford.edu/entries/embodied-cognition/)"
   ]
  },
  {
   "cell_type": "markdown",
   "metadata": {
    "slideshow": {
     "slide_type": "slide"
    }
   },
   "source": [
    "<h1><center>AI Approaches - Thinking Rationally and Acting Rationally</center></h1>\n",
    "\n",
    "- Rational Agents - Subject of Chapter 2.\n",
    "\n",
    "## Thinking Rationally\n",
    "**Rationality**: doing the right thing, given what is known.\n",
    "\n",
    "\n",
    "- Logical reasoning systems.\n",
    "\n",
    "\n",
    "- Problems:\n",
    "  * hard to write informal knowledge as logical statements\n",
    "  * solving most logical reasoning problems currently takes too much time or memory"
   ]
  },
  {
   "cell_type": "markdown",
   "metadata": {
    "slideshow": {
     "slide_type": "slide"
    }
   },
   "source": [
    "## Acting Rationally\n",
    "\n",
    "**Agent**: computer programs that: \n",
    "  * operate autonomously\n",
    "  * perceive their environment\n",
    "  * persist over long time periods\n",
    "  * adapt to change\n",
    "  * create and pursue goals\n",
    "\n",
    "**Rational agent**:  an agent that acts to achieve the best outcome, or best average outcome if the agent has incomplete knowledge\n",
    "\n",
    "Russell and Norvig take the view of rational agents in describing data\n",
    "structures and algorithms."
   ]
  },
  {
   "cell_type": "markdown",
   "metadata": {
    "slideshow": {
     "slide_type": "slide"
    }
   },
   "source": [
    "<h1><center>Foundations of AI</center></h1>\n",
    "\n",
    "- Philosophy and Cognitive Science\n",
    "\n",
    "\n",
    "- Mathematics\n",
    "\n",
    "\n",
    "- Economics\n",
    "\n",
    "\n",
    "- Neuroscience: How do brains process information?\n",
    "\n",
    "\n",
    "- Psychology\n",
    "\n",
    "\n",
    "- Computer Engineering\n",
    "\n",
    "\n",
    "- Control theory and Cybernetics\n",
    "\n",
    "\n",
    "- Linguistics"
   ]
  },
  {
   "cell_type": "markdown",
   "metadata": {
    "slideshow": {
     "slide_type": "slide"
    }
   },
   "source": [
    "<h1><center>History of AI</center></h1>\n",
    "\n",
    "- 1987-Present: Emergence of **Machine Learning** and Probabilistic Reasoning\n",
    "- 2001-Present: **Big Data**\n",
    "- 2011-Present: **Deep Learning**\n",
    "\n",
    "<img src=\"img/history.jpg\" align=\"center\"/>\n",
    "\n",
    "<font size=1> Image source: https://hackernoon.com/difference-between-artificial-intelligence-machine-learning-and-deep-learning-1pcv3zeg </font>"
   ]
  },
  {
   "cell_type": "markdown",
   "metadata": {
    "slideshow": {
     "slide_type": "slide"
    }
   },
   "source": [
    "<h1><center>AI The State of the Art</center></h1>\n",
    "\n",
    "- Robotic vehicles\n",
    "\n",
    "\n",
    "- Machine Translation\n",
    "\n",
    "\n",
    "- Speech Recognition\n",
    "\n",
    "\n",
    "- Recommendations\n",
    "\n",
    "\n",
    "- Game Playing\n",
    "\n",
    "\n",
    "- Image Understanding and Computer Vision\n",
    "\n",
    "\n",
    "- Medicine"
   ]
  },
  {
   "cell_type": "markdown",
   "metadata": {
    "slideshow": {
     "slide_type": "slide"
    }
   },
   "source": [
    "<h1><center>Bio-Inspired AI</center></h1>\n",
    "\n",
    "- Genetic Algorithms and Evolutionary Algorithms (EA)\n",
    "\n",
    "- Reinforcement Learning\n"
   ]
  },
  {
   "cell_type": "markdown",
   "metadata": {
    "slideshow": {
     "slide_type": "slide"
    }
   },
   "source": [
    "<h1><center>Reinforcement Learning</center></h1>\n",
    "\n",
    "<center><img src=\"img/rl.jpg\" align=\"center\"/></center>"
   ]
  },
  {
   "cell_type": "markdown",
   "metadata": {
    "slideshow": {
     "slide_type": "slide"
    }
   },
   "source": [
    "<h1><center>Future of AI: Risks?</center></h1>\n",
    "\n",
    "- Human-Level AI **HLAI**: A machine should be able to learn to do anything a human can do!\n",
    "\n",
    "- Artificial General Intelligence **AGI**\n",
    "\n",
    "- Artificial SuperIntelligence **ASI**: Intelligence that surpasses human ability - read this [NYTimes article](https://www.nytimes.com/2019/10/31/opinion/superintelligent-artificial-intelligence.html)\n",
    "\n",
    "- Our textbook author Dr. Russel is quoted in the NYT article:\n",
    "\n",
    "    *He believes that if we’re not careful in how we design artificial intelligence, we risk creating “superintelligent” machines whose objectives are not adequately aligned with our own.*\n",
    "\n",
    "    *As one example of a misaligned objective, Dr. Russell asks, “What if a superintelligent climate control system, given the job of restoring carbon dioxide concentrations to preindustrial levels, believes the solution is to reduce the human population to zero?” He claims that “if we insert the wrong objective into the machine and it is more intelligent than us, we lose.\"*\n"
   ]
  },
  {
   "cell_type": "markdown",
   "metadata": {
    "slideshow": {
     "slide_type": "slide"
    }
   },
   "source": [
    "<h1><center>SuperIntelligence</center></h1>\n",
    "\n",
    "- **Gorilla Problem** - read page 33 from the textbook\n",
    "\n",
    "<center><img src=\"img/skynet.jpg\" align=\"center\"/></center>\n",
    "\n",
    "<font size=1> Image source: Movie Terminator </font>"
   ]
  },
  {
   "cell_type": "markdown",
   "metadata": {
    "slideshow": {
     "slide_type": "slide"
    }
   },
   "source": [
    "<h1><center>Class Activity</center></h1>\n",
    "- Think about the following questions and answer them:\n",
    "\n",
    "- Is AI an assitance to humanity or a threat?"
   ]
  },
  {
   "cell_type": "markdown",
   "metadata": {
    "slideshow": {
     "slide_type": "fragment"
    }
   },
   "source": [
    "- Which jobs would be soon replaced by AI?"
   ]
  },
  {
   "cell_type": "markdown",
   "metadata": {
    "slideshow": {
     "slide_type": "fragment"
    }
   },
   "source": [
    "- Which jobs would be difficult to be replaced by AI within the next decade?"
   ]
  }
 ],
 "metadata": {
  "celltoolbar": "Slideshow",
  "kernelspec": {
   "display_name": "Python 3 (ipykernel)",
   "language": "python",
   "name": "python3"
  },
  "language_info": {
   "codemirror_mode": {
    "name": "ipython",
    "version": 3
   },
   "file_extension": ".py",
   "mimetype": "text/x-python",
   "name": "python",
   "nbconvert_exporter": "python",
   "pygments_lexer": "ipython3",
   "version": "3.8.5"
  }
 },
 "nbformat": 4,
 "nbformat_minor": 2
}
